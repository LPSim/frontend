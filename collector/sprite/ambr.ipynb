{
 "cells": [
  {
   "cell_type": "code",
   "execution_count": 33,
   "metadata": {},
   "outputs": [],
   "source": [
    "import json"
   ]
  },
  {
   "cell_type": "code",
   "execution_count": 34,
   "metadata": {},
   "outputs": [],
   "source": [
    "data = json.loads(open('new_desc.json', encoding='utf-8').read())\n",
    "data = [json.loads(x) for x in data]\n",
    "endata = data[::2]\n",
    "chdata = data[1::2]\n",
    "assert len(endata) == len(chdata)"
   ]
  },
  {
   "cell_type": "code",
   "execution_count": 38,
   "metadata": {},
   "outputs": [],
   "source": [
    "allres = {}\n",
    "ename_to_cname = {}\n",
    "for ed, cd in zip(endata, chdata):\n",
    "    for k in ed.keys():\n",
    "        if k[:5] == 'SKILL':\n",
    "            ori_k = k\n",
    "            k = k.replace('NORMAL ATTACK', 'NORMAL_ATTACK')\n",
    "            k = k.replace('ELEMENTAL SKILL', 'ELEMENTAL_SKILL')\n",
    "            k = k.replace('ELEMENTAL BURST', 'ELEMENTAL_BURST')\n",
    "            k = k.replace('PASSIVE SKILL', 'PASSIVE_SKILL')\n",
    "            mat = {\n",
    "                'NORMAL_ATTACK': '普通攻击',\n",
    "                'ELEMENTAL_SKILL': '元素战技',\n",
    "                'ELEMENTAL_BURST': '元素爆发',\n",
    "                'PASSIVE_SKILL': '被动技能',\n",
    "            }\n",
    "            c_skill_type = None\n",
    "            for etype in mat:\n",
    "                if etype in k:\n",
    "                    c_skill_type = mat[etype]\n",
    "                    break\n",
    "            for ck in cd:\n",
    "                if c_skill_type in ck:\n",
    "                    break\n",
    "            else:\n",
    "                print('Cannot find', k, 'in', cd)\n",
    "                continue\n",
    "            ename_to_cname[k] = ck\n",
    "            allres[k] = ed[ori_k]\n",
    "            allres[k]['names'].update(cd[ck]['names'])\n",
    "            version = list(allres[k]['descs'].keys())[0]\n",
    "            allres[k]['descs'][version].update(cd[ck]['descs'][version])\n",
    "        else:\n",
    "            assert len(ed.keys()) == 1\n",
    "            assert len(cd.keys()) == 1\n",
    "            ck = list(cd.keys())[0]\n",
    "            ename_to_cname[k] = ck\n",
    "            allres[k] = ed[k]\n",
    "            allres[k]['names'].update(cd[ck]['names'])\n",
    "            version = list(allres[k]['descs'].keys())[0]\n",
    "            allres[k]['descs'][version].update(cd[ck]['descs'][version])\n",
    "# print(json.dumps(allres, indent = 2, ensure_ascii = False))"
   ]
  },
  {
   "cell_type": "code",
   "execution_count": 39,
   "metadata": {},
   "outputs": [],
   "source": [
    "new_card_data = json.load(open('new_cards.json'))"
   ]
  },
  {
   "cell_type": "code",
   "execution_count": 40,
   "metadata": {},
   "outputs": [],
   "source": [
    "for image_path, file_name, name, id, URL in new_card_data:\n",
    "    id = int(id)\n",
    "    keys = list(allres.keys())\n",
    "    selected_keys = [x for x in keys if name in x]\n",
    "    if id < 100000:\n",
    "        # is charactor\n",
    "        cname = ename_to_cname[selected_keys[0]].split('_')[1]\n",
    "        allres['CHARACTOR/' + name] = {\n",
    "          'names': {\n",
    "              'en-US': name,\n",
    "              'zh-CN': cname,\n",
    "          },\n",
    "          'image_path': image_path,\n",
    "          'id': id,\n",
    "        }\n",
    "        continue\n",
    "    if len(selected_keys) != 1:\n",
    "        print('Cannot find', name, 'in', selected_keys)\n",
    "        continue\n",
    "    key = selected_keys[0]\n",
    "    allres[key]['image_path'] = image_path\n",
    "    allres[key]['id'] = id"
   ]
  },
  {
   "cell_type": "code",
   "execution_count": 41,
   "metadata": {},
   "outputs": [],
   "source": [
    "json.dump(allres, open('new_result.json', 'w', encoding='utf-8'), \n",
    "          ensure_ascii=False, indent=2)"
   ]
  }
 ],
 "metadata": {
  "kernelspec": {
   "display_name": "GITCG",
   "language": "python",
   "name": "python3"
  },
  "language_info": {
   "codemirror_mode": {
    "name": "ipython",
    "version": 3
   },
   "file_extension": ".py",
   "mimetype": "text/x-python",
   "name": "python",
   "nbconvert_exporter": "python",
   "pygments_lexer": "ipython3",
   "version": "3.10.13"
  }
 },
 "nbformat": 4,
 "nbformat_minor": 2
}
